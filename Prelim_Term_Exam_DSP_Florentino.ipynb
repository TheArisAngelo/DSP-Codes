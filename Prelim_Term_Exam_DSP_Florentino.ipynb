{
  "nbformat": 4,
  "nbformat_minor": 0,
  "metadata": {
    "colab": {
      "provenance": []
    },
    "kernelspec": {
      "name": "python3",
      "display_name": "Python 3"
    },
    "language_info": {
      "name": "python"
    }
  },
  "cells": [
    {
      "cell_type": "code",
      "execution_count": 45,
      "metadata": {
        "id": "wsn4SPsqCPDo"
      },
      "outputs": [],
      "source": [
        "import numpy as np\n",
        "import matplotlib.pyplot as plt\n",
        "import math\n",
        "\n",
        "np.random.seed(200)"
      ]
    },
    {
      "cell_type": "markdown",
      "source": [
        "***Part 1 Dot Product ***"
      ],
      "metadata": {
        "id": "d7rb7npF_r6w"
      }
    },
    {
      "cell_type": "markdown",
      "source": [
        "***Part 1 #1***"
      ],
      "metadata": {
        "id": "Km5QXH4sux3G"
      }
    },
    {
      "cell_type": "code",
      "source": [
        "H = np.array([\n",
        "    [0.71, 0.71],\n",
        "    [0.71, -0.71]\n",
        "])\n",
        "Y = np.array([\n",
        "    [0, -1],\n",
        "    [1, 0]\n",
        "])\n",
        "\n",
        "np.dot(H,Y)"
      ],
      "metadata": {
        "colab": {
          "base_uri": "https://localhost:8080/"
        },
        "id": "MRZOKup1u691",
        "outputId": "53c8ddde-4783-4d53-9cec-2490685b7300"
      },
      "execution_count": 2,
      "outputs": [
        {
          "output_type": "execute_result",
          "data": {
            "text/plain": [
              "array([[ 0.71, -0.71],\n",
              "       [-0.71, -0.71]])"
            ]
          },
          "metadata": {},
          "execution_count": 2
        }
      ]
    },
    {
      "cell_type": "markdown",
      "source": [
        "***Part 1 #2***"
      ],
      "metadata": {
        "id": "5ob8r_eRxO-2"
      }
    },
    {
      "cell_type": "code",
      "source": [
        "Y = np.array([\n",
        "    [0, -1],\n",
        "    [1, 0]\n",
        "])\n",
        "H = np.array([\n",
        "    [0.71, 0.71],\n",
        "    [0.71, -0.71]\n",
        "])\n",
        "\n",
        "np.dot(Y,H)"
      ],
      "metadata": {
        "colab": {
          "base_uri": "https://localhost:8080/"
        },
        "id": "sH4w1bixxUm9",
        "outputId": "d243abdb-1d92-424a-a5a7-427726780eb2"
      },
      "execution_count": 3,
      "outputs": [
        {
          "output_type": "execute_result",
          "data": {
            "text/plain": [
              "array([[-0.71,  0.71],\n",
              "       [ 0.71,  0.71]])"
            ]
          },
          "metadata": {},
          "execution_count": 3
        }
      ]
    },
    {
      "cell_type": "markdown",
      "source": [
        "***Part 1 #3***\n"
      ],
      "metadata": {
        "id": "F_xwLUYgCgax"
      }
    },
    {
      "cell_type": "code",
      "source": [
        "H = np.array([\n",
        "    [0.71, 0.71],\n",
        "    [0.71, -0.71]\n",
        "])\n",
        "\n",
        "\n",
        "np.dot(H,H)"
      ],
      "metadata": {
        "colab": {
          "base_uri": "https://localhost:8080/"
        },
        "id": "6OO9rAbxCU5K",
        "outputId": "e05fd9d1-e9d1-4cc6-ae8c-bf2363a3ed84"
      },
      "execution_count": 4,
      "outputs": [
        {
          "output_type": "execute_result",
          "data": {
            "text/plain": [
              "array([[1.00820000e+00, 4.29878355e-17],\n",
              "       [4.29878355e-17, 1.00820000e+00]])"
            ]
          },
          "metadata": {},
          "execution_count": 4
        }
      ]
    },
    {
      "cell_type": "markdown",
      "source": [
        "***Part 1 #4***"
      ],
      "metadata": {
        "id": "RNjSDURB1mp4"
      }
    },
    {
      "cell_type": "code",
      "source": [
        "Y = np.array([\n",
        "    [0, -1],\n",
        "    [1, 0]\n",
        "])\n",
        "H = np.array([\n",
        "    [0.71, 0.71],\n",
        "    [0.71, -0.71]\n",
        "])\n",
        "O = np.array([\n",
        "    [1, 0],\n",
        "    [1, 1]\n",
        "])\n",
        "print(Y.shape)\n",
        "print(H.shape)\n",
        "print(O.shape)"
      ],
      "metadata": {
        "id": "w3OoV13Hu1g9",
        "colab": {
          "base_uri": "https://localhost:8080/"
        },
        "outputId": "f842ac0e-4585-4755-9c35-c9fa3baca910"
      },
      "execution_count": 5,
      "outputs": [
        {
          "output_type": "stream",
          "name": "stdout",
          "text": [
            "(2, 2)\n",
            "(2, 2)\n",
            "(2, 2)\n"
          ]
        }
      ]
    },
    {
      "cell_type": "code",
      "source": [
        "np.dot(Y,O)"
      ],
      "metadata": {
        "colab": {
          "base_uri": "https://localhost:8080/"
        },
        "id": "aLF2EHIe4fB1",
        "outputId": "09aa4008-2790-4ba8-c0e5-d0921b34f44e"
      },
      "execution_count": 6,
      "outputs": [
        {
          "output_type": "execute_result",
          "data": {
            "text/plain": [
              "array([[-1, -1],\n",
              "       [ 1,  0]])"
            ]
          },
          "metadata": {},
          "execution_count": 6
        }
      ]
    },
    {
      "cell_type": "code",
      "source": [
        "np.dot(H,O)"
      ],
      "metadata": {
        "colab": {
          "base_uri": "https://localhost:8080/"
        },
        "id": "KJif1C9t6mXf",
        "outputId": "80c504ea-e332-4952-8b45-7d142a0aee3d"
      },
      "execution_count": 7,
      "outputs": [
        {
          "output_type": "execute_result",
          "data": {
            "text/plain": [
              "array([[ 1.42,  0.71],\n",
              "       [ 0.  , -0.71]])"
            ]
          },
          "metadata": {},
          "execution_count": 7
        }
      ]
    },
    {
      "cell_type": "code",
      "source": [
        "np.dot(H,Y)\n"
      ],
      "metadata": {
        "colab": {
          "base_uri": "https://localhost:8080/"
        },
        "id": "xI1kbc-f6oVk",
        "outputId": "3d2cbc89-80cc-4d2f-cf2e-91f8ad9b47d1"
      },
      "execution_count": 8,
      "outputs": [
        {
          "output_type": "execute_result",
          "data": {
            "text/plain": [
              "array([[ 0.71, -0.71],\n",
              "       [-0.71, -0.71]])"
            ]
          },
          "metadata": {},
          "execution_count": 8
        }
      ]
    },
    {
      "cell_type": "markdown",
      "source": [
        "***Part 1 #5***"
      ],
      "metadata": {
        "id": "zx3kFI4q7djE"
      }
    },
    {
      "cell_type": "code",
      "source": [
        "H = np.array([\n",
        "    [1.00820000e+00, 4.29878355e-17],\n",
        "    [4.29878355e-17, 1.00820000e+00]\n",
        "])\n",
        "Y = np.array([\n",
        "    [0, -1],\n",
        "    [1, 0]\n",
        "])\n",
        "O = np.array([\n",
        "    [1, 0],\n",
        "    [1, 1]\n",
        "])\n",
        "print(H.shape)\n",
        "print(Y.shape)\n",
        "print(O.shape)"
      ],
      "metadata": {
        "colab": {
          "base_uri": "https://localhost:8080/"
        },
        "id": "SgO8cGhd7gcc",
        "outputId": "ccb4da78-a700-4df3-8aae-ad32e83e8ead"
      },
      "execution_count": 9,
      "outputs": [
        {
          "output_type": "stream",
          "name": "stdout",
          "text": [
            "(2, 2)\n",
            "(2, 2)\n",
            "(2, 2)\n"
          ]
        }
      ]
    },
    {
      "cell_type": "code",
      "source": [
        "np.dot(H,O)"
      ],
      "metadata": {
        "colab": {
          "base_uri": "https://localhost:8080/"
        },
        "id": "YwnJGm0K8YKF",
        "outputId": "663cadc8-402f-4dd1-946f-61cdc05056ea"
      },
      "execution_count": 10,
      "outputs": [
        {
          "output_type": "execute_result",
          "data": {
            "text/plain": [
              "array([[1.00820000e+00, 4.29878355e-17],\n",
              "       [1.00820000e+00, 1.00820000e+00]])"
            ]
          },
          "metadata": {},
          "execution_count": 10
        }
      ]
    },
    {
      "cell_type": "code",
      "source": [
        "np.dot(Y,O)"
      ],
      "metadata": {
        "colab": {
          "base_uri": "https://localhost:8080/"
        },
        "id": "rKdCMrII9EA0",
        "outputId": "ea3ac2c1-d963-4272-f02c-32bfe5d1d25a"
      },
      "execution_count": 11,
      "outputs": [
        {
          "output_type": "execute_result",
          "data": {
            "text/plain": [
              "array([[-1, -1],\n",
              "       [ 1,  0]])"
            ]
          },
          "metadata": {},
          "execution_count": 11
        }
      ]
    },
    {
      "cell_type": "code",
      "source": [
        "np.dot(H,Y)"
      ],
      "metadata": {
        "colab": {
          "base_uri": "https://localhost:8080/"
        },
        "id": "wJ7V8OUo9JsD",
        "outputId": "03bfe433-fdc6-42f1-e5e0-f3f68c9017ae"
      },
      "execution_count": 12,
      "outputs": [
        {
          "output_type": "execute_result",
          "data": {
            "text/plain": [
              "array([[ 4.29878355e-17, -1.00820000e+00],\n",
              "       [ 1.00820000e+00, -4.29878355e-17]])"
            ]
          },
          "metadata": {},
          "execution_count": 12
        }
      ]
    },
    {
      "cell_type": "markdown",
      "source": [
        "***Part 1 Magnitude/Vector Plots/Transformation*** ***H Value***"
      ],
      "metadata": {
        "id": "TZeV_tF0_v71"
      }
    },
    {
      "cell_type": "code",
      "source": [
        "def frobenius_norm(n, vector):\n",
        "  n_sum = np.sum(vector**n)\n",
        "  vect_norm = np.power(n_sum,1/n)\n",
        "  return vect_norm"
      ],
      "metadata": {
        "id": "4ibBHdSX_zht"
      },
      "execution_count": 13,
      "outputs": []
    },
    {
      "cell_type": "code",
      "source": [
        "def l1_norm(vector):\n",
        "  vect_norm  = np.sum(vector)\n",
        "  return vect_norm"
      ],
      "metadata": {
        "id": "vsWAjrcHASZU"
      },
      "execution_count": 14,
      "outputs": []
    },
    {
      "cell_type": "code",
      "source": [
        "H = np.array([4.29878355e-17,1.00820000e+00,-1.00820000e+00,-4.29878355e-17])\n",
        "\n",
        "frobenius_norm(1, H)"
      ],
      "metadata": {
        "colab": {
          "base_uri": "https://localhost:8080/"
        },
        "id": "PRvw8sfdA2Ll",
        "outputId": "6bf8c1fa-0cf8-41be-9bc0-d3b5f859387b"
      },
      "execution_count": 15,
      "outputs": [
        {
          "output_type": "execute_result",
          "data": {
            "text/plain": [
              "-4.29878355e-17"
            ]
          },
          "metadata": {},
          "execution_count": 15
        }
      ]
    },
    {
      "cell_type": "code",
      "source": [
        "def l2_norm(vector):\n",
        "  n_sum = np.dot(vector, vector)\n",
        "  vect_norm = np.sqrt(n_sum)\n",
        "  return vect_norm"
      ],
      "metadata": {
        "id": "Oc_YCQCAQ-11"
      },
      "execution_count": 16,
      "outputs": []
    },
    {
      "cell_type": "code",
      "source": [
        "H = np.array([4.29878355e-17,1.00820000e+00,-1.00820000e+00,-4.29878355e-17])\n",
        "frobenius_norm(2,H)"
      ],
      "metadata": {
        "colab": {
          "base_uri": "https://localhost:8080/"
        },
        "id": "sdhtHBa8RPjD",
        "outputId": "5613cc9b-6c6c-44fc-a536-c7fadbf1ef81"
      },
      "execution_count": 17,
      "outputs": [
        {
          "output_type": "execute_result",
          "data": {
            "text/plain": [
              "1.4258101135845545"
            ]
          },
          "metadata": {},
          "execution_count": 17
        }
      ]
    },
    {
      "cell_type": "code",
      "source": [
        "def plot_quiv(x,t_mat=np.eye(2)):\n",
        "  x_prime = x @ t_mat\n",
        "  size=  (3,3)\n",
        "  plt.figure(figsize=(5,5))\n",
        "\n",
        "  plt.xlim(-size[0],size[0])\n",
        "  plt.ylim(-size[1],size[1])\n",
        "  plt.xticks(np.arange((-size[0]), size[0]+1, 1.0))\n",
        "  plt.yticks(np.arange((-size[1]), size[1]+1, 1.0))\n",
        "\n",
        "  plt.quiver([0,0],[0,0], x_prime[0,:], x_prime[1,:],\n",
        "             angles='xy', scale_units='xy',scale=1,\n",
        "             color=['black','yellow'])\n",
        "  plt.grid()\n",
        "  plt.show()"
      ],
      "metadata": {
        "id": "NLiTKCG3SXG8"
      },
      "execution_count": 18,
      "outputs": []
    },
    {
      "cell_type": "code",
      "source": [
        "H = np.array([\n",
        "    [1,1],\n",
        "    [1,-1]\n",
        "])\n",
        "\n",
        "plot_quiv(H)"
      ],
      "metadata": {
        "colab": {
          "base_uri": "https://localhost:8080/",
          "height": 451
        },
        "id": "Ofj-vvYLT6nu",
        "outputId": "20109f18-fa48-422a-c84e-839ad94fd519"
      },
      "execution_count": 19,
      "outputs": [
        {
          "output_type": "display_data",
          "data": {
            "text/plain": [
              "<Figure size 500x500 with 1 Axes>"
            ],
            "image/png": "[encoded data removed]"
          },
          "metadata": {}
        }
      ]
    },
    {
      "cell_type": "code",
      "source": [
        "H = np.array([\n",
        "    [1,1],\n",
        "    [1,-1]\n",
        "])\n",
        "shear1 = np.array([\n",
        "    [1,1],\n",
        "    [1,-1]\n",
        "])\n",
        "\n",
        "plot_quiv(H)\n",
        "print(shear1@H)\n",
        "plot_quiv(H, shear1)"
      ],
      "metadata": {
        "colab": {
          "base_uri": "https://localhost:8080/",
          "height": 920
        },
        "id": "JVJsLV7SVeeF",
        "outputId": "6b5d90da-3e46-43eb-96c3-6c11a1083139"
      },
      "execution_count": 20,
      "outputs": [
        {
          "output_type": "display_data",
          "data": {
            "text/plain": [
              "<Figure size 500x500 with 1 Axes>"
            ],
            "image/png": "[encoded data removed]"
          },
          "metadata": {}
        },
        {
          "output_type": "stream",
          "name": "stdout",
          "text": [
            "[[2 0]\n",
            " [0 2]]\n"
          ]
        },
        {
          "output_type": "display_data",
          "data": {
            "text/plain": [
              "<Figure size 500x500 with 1 Axes>"
            ],
            "image/png": "[encoded data removed]"
          },
          "metadata": {}
        }
      ]
    },
    {
      "cell_type": "markdown",
      "source": [
        "***Y Value Magnitude/Vector Plots/Transformation***"
      ],
      "metadata": {
        "id": "-8mPBRbWXxOb"
      }
    },
    {
      "cell_type": "code",
      "source": [
        "def frobenius_norm(n, vector):\n",
        "  n_sum = np.sum(vector**n)\n",
        "  vect_norm = np.power(n_sum,1/n)\n",
        "  return vect_norm"
      ],
      "metadata": {
        "id": "7b3NnnoNX7zM"
      },
      "execution_count": 21,
      "outputs": []
    },
    {
      "cell_type": "code",
      "source": [
        "def l1_norm(vector):\n",
        "  vect_norm  = np.sum(vector)\n",
        "  return vect_norm"
      ],
      "metadata": {
        "id": "ntON1cINX_VE"
      },
      "execution_count": 22,
      "outputs": []
    },
    {
      "cell_type": "code",
      "source": [
        "Y = np.array([0,1,-1,0])\n",
        "\n",
        "frobenius_norm(1, Y)"
      ],
      "metadata": {
        "colab": {
          "base_uri": "https://localhost:8080/"
        },
        "id": "BC_DlYwYYCYV",
        "outputId": "ad174fbd-78a4-4f2a-9e3b-390641593a5e"
      },
      "execution_count": 23,
      "outputs": [
        {
          "output_type": "execute_result",
          "data": {
            "text/plain": [
              "0.0"
            ]
          },
          "metadata": {},
          "execution_count": 23
        }
      ]
    },
    {
      "cell_type": "code",
      "source": [
        "def l2_norm(vector):\n",
        "  n_sum = np.dot(vector, vector)\n",
        "  vect_norm = np.sqrt(n_sum)\n",
        "  return vect_norm"
      ],
      "metadata": {
        "id": "brM61xUCY34m"
      },
      "execution_count": 24,
      "outputs": []
    },
    {
      "cell_type": "code",
      "source": [
        "Y = np.array([0,1,-1,0])\n",
        "frobenius_norm(2,Y)"
      ],
      "metadata": {
        "colab": {
          "base_uri": "https://localhost:8080/"
        },
        "id": "TMAib3gZY84d",
        "outputId": "abaa98be-28f8-4eb9-ee44-97fa9e8e3224"
      },
      "execution_count": 25,
      "outputs": [
        {
          "output_type": "execute_result",
          "data": {
            "text/plain": [
              "1.4142135623730951"
            ]
          },
          "metadata": {},
          "execution_count": 25
        }
      ]
    },
    {
      "cell_type": "code",
      "source": [
        "Y = np.array([\n",
        "    [0,-1],\n",
        "    [1,0]\n",
        "])\n",
        "\n",
        "plot_quiv(Y)"
      ],
      "metadata": {
        "colab": {
          "base_uri": "https://localhost:8080/",
          "height": 451
        },
        "id": "6yMj8MQKZvGF",
        "outputId": "f148cc00-0ed0-4067-fc50-f83f37bf4eae"
      },
      "execution_count": 26,
      "outputs": [
        {
          "output_type": "display_data",
          "data": {
            "text/plain": [
              "<Figure size 500x500 with 1 Axes>"
            ],
            "image/png": "[encoded data removed]"
          },
          "metadata": {}
        }
      ]
    },
    {
      "cell_type": "code",
      "source": [
        "Y = np.array([\n",
        "    [0,-1],\n",
        "    [1,0]\n",
        "])\n",
        "shear2 = np.array([\n",
        "    [0,-1],\n",
        "    [1,0]\n",
        "])\n",
        "\n",
        "plot_quiv(Y)\n",
        "print(shear2@Y)\n",
        "plot_quiv(Y, shear2)"
      ],
      "metadata": {
        "colab": {
          "base_uri": "https://localhost:8080/",
          "height": 920
        },
        "id": "HpLk6hC1Z_ee",
        "outputId": "ea5b853e-dad9-4e8e-b401-434274c36eda"
      },
      "execution_count": 27,
      "outputs": [
        {
          "output_type": "display_data",
          "data": {
            "text/plain": [
              "<Figure size 500x500 with 1 Axes>"
            ],
            "image/png": "[encoded data removed]"
          },
          "metadata": {}
        },
        {
          "output_type": "stream",
          "name": "stdout",
          "text": [
            "[[-1  0]\n",
            " [ 0 -1]]\n"
          ]
        },
        {
          "output_type": "display_data",
          "data": {
            "text/plain": [
              "<Figure size 500x500 with 1 Axes>"
            ],
            "image/png": "[encoded data removed]"
          },
          "metadata": {}
        }
      ]
    },
    {
      "cell_type": "markdown",
      "source": [
        "***O Value Magnitude/Vector Plots/Transformation***"
      ],
      "metadata": {
        "id": "krLpT8oCaW-u"
      }
    },
    {
      "cell_type": "code",
      "source": [
        "def frobenius_norm(n, vector):\n",
        "  n_sum = np.sum(vector**n)\n",
        "  vect_norm = np.power(n_sum,1/n)\n",
        "  return vect_norm"
      ],
      "metadata": {
        "id": "yiZ-duhdae0F"
      },
      "execution_count": 28,
      "outputs": []
    },
    {
      "cell_type": "code",
      "source": [
        "def l1_norm(vector):\n",
        "  vect_norm  = np.sum(vector)\n",
        "  return vect_norm"
      ],
      "metadata": {
        "id": "HrrGWzoPasRl"
      },
      "execution_count": 29,
      "outputs": []
    },
    {
      "cell_type": "code",
      "source": [
        "O = np.array([1,1,0,1])\n",
        "\n",
        "frobenius_norm(1, O)"
      ],
      "metadata": {
        "colab": {
          "base_uri": "https://localhost:8080/"
        },
        "id": "RLViTkPRavIk",
        "outputId": "d64b6f8e-9a24-4047-f5df-beb4e3d5cc13"
      },
      "execution_count": 30,
      "outputs": [
        {
          "output_type": "execute_result",
          "data": {
            "text/plain": [
              "3.0"
            ]
          },
          "metadata": {},
          "execution_count": 30
        }
      ]
    },
    {
      "cell_type": "code",
      "source": [
        "def l2_norm(vector):\n",
        "  n_sum = np.dot(vector, vector)\n",
        "  vect_norm = np.sqrt(n_sum)\n",
        "  return vect_norm"
      ],
      "metadata": {
        "id": "1fIMRQcya5br"
      },
      "execution_count": 31,
      "outputs": []
    },
    {
      "cell_type": "code",
      "source": [
        "O = np.array([1,1,0,1])\n",
        "frobenius_norm(2,Y)"
      ],
      "metadata": {
        "colab": {
          "base_uri": "https://localhost:8080/"
        },
        "id": "4FQyfeS5a6YE",
        "outputId": "56de9d82-3b63-4f4e-b49d-f18c366e1530"
      },
      "execution_count": 32,
      "outputs": [
        {
          "output_type": "execute_result",
          "data": {
            "text/plain": [
              "1.4142135623730951"
            ]
          },
          "metadata": {},
          "execution_count": 32
        }
      ]
    },
    {
      "cell_type": "code",
      "source": [
        "O = np.array([\n",
        "    [1,0],\n",
        "    [1,1]\n",
        "])\n",
        "\n",
        "plot_quiv(O)"
      ],
      "metadata": {
        "colab": {
          "base_uri": "https://localhost:8080/",
          "height": 451
        },
        "id": "oaZqwzJpa9iO",
        "outputId": "faacda77-fbda-47a9-e0fc-01a3c1991f1d"
      },
      "execution_count": 33,
      "outputs": [
        {
          "output_type": "display_data",
          "data": {
            "text/plain": [
              "<Figure size 500x500 with 1 Axes>"
            ],
            "image/png": "[encoded data removed]"
          },
          "metadata": {}
        }
      ]
    },
    {
      "cell_type": "code",
      "source": [
        "O = np.array([\n",
        "    [1,0],\n",
        "    [1,1]\n",
        "])\n",
        "shear3 = np.array([\n",
        "    [1,0],\n",
        "    [1,1]\n",
        "])\n",
        "\n",
        "plot_quiv(O)\n",
        "print(shear3@O)\n",
        "plot_quiv(O, shear3)"
      ],
      "metadata": {
        "colab": {
          "base_uri": "https://localhost:8080/",
          "height": 920
        },
        "id": "sR7tcYJIbkgV",
        "outputId": "72939709-270a-4dee-9441-44fa93c979ad"
      },
      "execution_count": 34,
      "outputs": [
        {
          "output_type": "display_data",
          "data": {
            "text/plain": [
              "<Figure size 500x500 with 1 Axes>"
            ],
            "image/png": "[encoded data removed]"
          },
          "metadata": {}
        },
        {
          "output_type": "stream",
          "name": "stdout",
          "text": [
            "[[1 0]\n",
            " [2 1]]\n"
          ]
        },
        {
          "output_type": "display_data",
          "data": {
            "text/plain": [
              "<Figure size 500x500 with 1 Axes>"
            ],
            "image/png": "[encoded data removed]"
          },
          "metadata": {}
        }
      ]
    },
    {
      "cell_type": "markdown",
      "source": [
        "***Part 2 Determinants ***"
      ],
      "metadata": {
        "id": "sj1jyweDD0gC"
      }
    },
    {
      "cell_type": "code",
      "source": [
        "H = np.array([\n",
        "    [1, 1],\n",
        "    [1, -1]\n",
        "])\n",
        "np.linalg.det(H)"
      ],
      "metadata": {
        "colab": {
          "base_uri": "https://localhost:8080/"
        },
        "id": "4t9-9mb3D40t",
        "outputId": "bfc27a73-50ea-489c-c4df-57f74719ba8f"
      },
      "execution_count": 35,
      "outputs": [
        {
          "output_type": "execute_result",
          "data": {
            "text/plain": [
              "-2.0"
            ]
          },
          "metadata": {},
          "execution_count": 35
        }
      ]
    },
    {
      "cell_type": "code",
      "source": [
        "Y = np.array([\n",
        "    [0, -1],\n",
        "    [1, 0]\n",
        "])\n",
        "\n",
        "np.linalg.det(Y)"
      ],
      "metadata": {
        "colab": {
          "base_uri": "https://localhost:8080/"
        },
        "id": "W8nA_kB0GfLd",
        "outputId": "75a07d7f-fc27-46ed-b16f-c530b9557c8d"
      },
      "execution_count": 36,
      "outputs": [
        {
          "output_type": "execute_result",
          "data": {
            "text/plain": [
              "1.0"
            ]
          },
          "metadata": {},
          "execution_count": 36
        }
      ]
    },
    {
      "cell_type": "markdown",
      "source": [
        "***Part 3 # 1 Determinants/Linear Transformation***"
      ],
      "metadata": {
        "id": "JpqQZgmWHc3f"
      }
    },
    {
      "cell_type": "markdown",
      "source": [
        "***Part 3 # 2 Determinants/Linear Transformation***"
      ],
      "metadata": {
        "id": "IAbATOHjQsHF"
      }
    },
    {
      "cell_type": "code",
      "source": [
        "A = np.array([\n",
        "    [5, 0, 25],\n",
        "    [10, 35, 35],\n",
        "    [30, 35, 35]\n",
        "])\n",
        "np.linalg.det(A)"
      ],
      "metadata": {
        "colab": {
          "base_uri": "https://localhost:8080/"
        },
        "id": "wL5CfQ-zLqbT",
        "outputId": "c77b2e71-8327-4fda-8f05-97c9c045039b"
      },
      "execution_count": 37,
      "outputs": [
        {
          "output_type": "execute_result",
          "data": {
            "text/plain": [
              "-17500.000000000015"
            ]
          },
          "metadata": {},
          "execution_count": 37
        }
      ]
    },
    {
      "cell_type": "code",
      "source": [
        "B = np.array([\n",
        "    [17, 10, 18],\n",
        "    [105, 44, 58],\n",
        "    [46, 19, 11]\n",
        "])\n",
        "np.linalg.det(B)"
      ],
      "metadata": {
        "colab": {
          "base_uri": "https://localhost:8080/"
        },
        "id": "jVo-ELo3Oa8e",
        "outputId": "908a6bf5-3651-4a66-e08b-a8df7379ef20"
      },
      "execution_count": 38,
      "outputs": [
        {
          "output_type": "execute_result",
          "data": {
            "text/plain": [
              "4101.999999999999"
            ]
          },
          "metadata": {},
          "execution_count": 38
        }
      ]
    },
    {
      "cell_type": "code",
      "source": [
        "A = np.array([\n",
        "    [5, 0, 25],\n",
        "    [10, 35, 35],\n",
        "    [30, 35, 35]\n",
        "])\n",
        "\n",
        "B = np.array([\n",
        "    [17, 10, 18],\n",
        "    [105, 44, 58],\n",
        "    [46, 19, 11]\n",
        "])\n",
        "\n",
        "dot = np.dot(A,B)\n",
        "\n",
        "detAB = np.linalg.det(dot)\n",
        "\n",
        "if(detAB !=0):\n",
        "  print(\"The Linear is Dependent\")\n",
        "  print(detAB)\n",
        "\n",
        "else:\n",
        "  print(\"The Linear is Independent\")\n",
        "  print(detAB)\n",
        "\n"
      ],
      "metadata": {
        "colab": {
          "base_uri": "https://localhost:8080/"
        },
        "id": "EnKsYpVUYmWX",
        "outputId": "c581cc39-19bf-47f7-88f2-ffe8863150b2"
      },
      "execution_count": 39,
      "outputs": [
        {
          "output_type": "stream",
          "name": "stdout",
          "text": [
            "The Linear is Dependent\n",
            "-71785000.00000016\n"
          ]
        }
      ]
    },
    {
      "cell_type": "markdown",
      "source": [
        "***Part 4 ***"
      ],
      "metadata": {
        "id": "coUwlb0gh3LT"
      }
    },
    {
      "cell_type": "code",
      "source": [
        "X = [-3, 0, 0.79, 1.57, 2.36, 3, 3.14, 5]\n",
        "\n",
        "\n",
        "m, b = -0.25, 2\n",
        "\n",
        "\n",
        "y = []\n",
        "for x in X:\n",
        "    y.append(m*x + b)\n",
        "\n",
        "plt.plot(X,y, 'bo-')\n",
        "plt.text(\n",
        "    int(len(X)/2),int(b/2),\n",
        "    fr'$y={m}x+{b}$', fontsize=12)\n",
        "\n",
        "plt.xlabel('T')\n",
        "plt.ylabel('G')\n",
        "plt.grid()\n",
        "plt.show()\n",
        "\n",
        "\n"
      ],
      "metadata": {
        "colab": {
          "base_uri": "https://localhost:8080/",
          "height": 449
        },
        "id": "DCjRdbRfh6Cb",
        "outputId": "bee19e34-77bd-4af5-8f75-ab8384fe0f95"
      },
      "execution_count": 50,
      "outputs": [
        {
          "output_type": "display_data",
          "data": {
            "text/plain": [
              "<Figure size 640x480 with 1 Axes>"
            ],
            "image/png": "[encoded data removed]"
          },
          "metadata": {}
        }
      ]
    },
    {
      "cell_type": "code",
      "source": [
        "scalar = 2\n",
        "\n",
        "scalar_np = np.array(5)\n",
        "\n",
        "print(scalar)\n",
        "print(scalar_np)"
      ],
      "metadata": {
        "colab": {
          "base_uri": "https://localhost:8080/"
        },
        "id": "wgzHw0chqgmW",
        "outputId": "e9ccfd68-aae8-44b9-ab48-f61364eb6340"
      },
      "execution_count": 51,
      "outputs": [
        {
          "output_type": "stream",
          "name": "stdout",
          "text": [
            "2\n",
            "5\n"
          ]
        }
      ]
    },
    {
      "cell_type": "code",
      "source": [
        "vectorT = np.array([0, 0.79, 1.57, 2.36, 3.14])\n",
        "\n",
        "vectorG = np.array([-3, 0, 3, 5, 5])\n",
        "\n",
        "print(vectorT)\n",
        "print(vectorG)"
      ],
      "metadata": {
        "colab": {
          "base_uri": "https://localhost:8080/"
        },
        "id": "MDjiQInsqvWV",
        "outputId": "781ec17a-0599-4e80-ee86-9fabbf5e5f75"
      },
      "execution_count": 55,
      "outputs": [
        {
          "output_type": "stream",
          "name": "stdout",
          "text": [
            "[0.   0.79 1.57 2.36 3.14]\n",
            "[-3  0  3  5  5]\n"
          ]
        }
      ]
    },
    {
      "cell_type": "code",
      "source": [
        "vT = np.array([0, 0.79, 1.57, 2.36, 3.14])\n",
        "vG = np.array([-3, 0, 3, 5, 5])\n",
        "\n",
        "plt.title(\"Amplitudes of the Signal\")\n",
        "\n",
        "plt.quiver(\n",
        "    0,0,\n",
        "    vT[0], vT[1],\n",
        "    angles='xy', scale_units='xy',scale=1,\n",
        "    color='black', label=r'$vT$')\n",
        "\n",
        "plt.quiver(\n",
        "    vT[0], vT[1],\n",
        "    vG[0], vG[1],\n",
        "    angles='xy', scale_units='xy',scale=1,\n",
        "    color='yellow', label=r'$vG$')\n",
        "\n",
        "v_res = vT+vG\n",
        "\n",
        "plt.quiver(\n",
        "    0, 0,\n",
        "    v_res[0], v_res[1],\n",
        "    angles='xy', scale_units='xy',scale=1,\n",
        "    color='red', label=r'$v_{res}$')\n",
        "\n",
        "plt.xlim(-5, 5)\n",
        "plt.ylim(-5, 5)\n",
        "\n",
        "plt.legend()\n",
        "plt.grid()\n",
        "plt.show()"
      ],
      "metadata": {
        "colab": {
          "base_uri": "https://localhost:8080/",
          "height": 452
        },
        "id": "SrOCmjVRrvyP",
        "outputId": "90c6b82f-c0b0-4d77-fbbd-5cd6d3bf4191"
      },
      "execution_count": 57,
      "outputs": [
        {
          "output_type": "display_data",
          "data": {
            "text/plain": [
              "<Figure size 640x480 with 1 Axes>"
            ],
            "image/png": "[encoded data removed]"
          },
          "metadata": {}
        }
      ]
    }
  ]
}